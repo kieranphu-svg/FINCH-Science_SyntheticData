{
 "cells": [
  {
   "cell_type": "code",
   "execution_count": 41,
   "id": "70688ac4",
   "metadata": {},
   "outputs": [
    {
     "name": "stdout",
     "output_type": "stream",
     "text": [
      "The autoreload extension is already loaded. To reload it, use:\n",
      "  %reload_ext autoreload\n"
     ]
    }
   ],
   "source": [
    "# Define autoreload\n",
    "%load_ext autoreload\n",
    "%autoreload 2"
   ]
  },
  {
   "cell_type": "code",
   "execution_count": 42,
   "id": "5f30fbcb",
   "metadata": {},
   "outputs": [],
   "source": [
    "# Adopted from Andrew's project\n",
    "\n",
    "from training_defs import load_spectral_data, get_dataloaders\n",
    "from model import MLP\n",
    "import torch, torch.nn as nn, torch.optim as optim\n",
    "import matplotlib.pyplot as plt\n",
    "\n",
    "X, y = load_spectral_data()\n",
    "train_loader, val_loader = get_dataloaders(X, y)"
   ]
  },
  {
   "cell_type": "code",
   "execution_count": 43,
   "id": "52f46577",
   "metadata": {},
   "outputs": [],
   "source": [
    "device = torch.device(\"cuda\" if torch.cuda.is_available() else \"cpu\")\n",
    "\n",
    "# Layers\n",
    "hidden_layers = [64, 128, 128, 62]\n",
    "\n",
    "model = MLP(in_dim=X.shape[1], h_dim=hidden_layers, out_dim=3).to(device)\n",
    "criterion = nn.L1Loss()\n",
    "optimizer = optim.Adam(model.parameters(), lr=1e-3)\n",
    "\n",
    "n_epochs = 100\n",
    "lconst_mult = 4\n",
    "train_losses, val_losses = [], []"
   ]
  },
  {
   "cell_type": "code",
   "execution_count": 44,
   "id": "788f8fbc",
   "metadata": {},
   "outputs": [
    {
     "name": "stdout",
     "output_type": "stream",
     "text": [
      "epoch 01  train loss: 4.3291  val loss: 0.2115\n",
      "epoch 02  train loss: 0.5226  val loss: 0.1781\n",
      "epoch 03  train loss: 0.3932  val loss: 0.1637\n",
      "epoch 04  train loss: 0.3394  val loss: 0.1558\n",
      "epoch 05  train loss: 0.2366  val loss: 0.1586\n",
      "epoch 06  train loss: 0.2657  val loss: 0.1481\n",
      "epoch 07  train loss: 0.2265  val loss: 0.1513\n",
      "epoch 08  train loss: 0.3722  val loss: 0.1560\n",
      "epoch 09  train loss: 0.2449  val loss: 0.1382\n",
      "epoch 10  train loss: 0.2332  val loss: 0.1263\n",
      "epoch 11  train loss: 0.2694  val loss: 0.1404\n",
      "epoch 12  train loss: 0.2172  val loss: 0.1215\n",
      "epoch 13  train loss: 0.2216  val loss: 0.1225\n",
      "epoch 14  train loss: 0.2283  val loss: 0.1241\n",
      "epoch 15  train loss: 0.1916  val loss: 0.1329\n",
      "epoch 16  train loss: 0.1967  val loss: 0.1228\n",
      "epoch 17  train loss: 0.3329  val loss: 0.1140\n",
      "epoch 18  train loss: 0.1593  val loss: 0.1366\n",
      "epoch 19  train loss: 0.1913  val loss: 0.1234\n",
      "epoch 20  train loss: 0.1861  val loss: 0.1080\n",
      "epoch 21  train loss: 0.2011  val loss: 0.1080\n",
      "epoch 22  train loss: 0.1971  val loss: 0.1158\n",
      "epoch 23  train loss: 0.1430  val loss: 0.1213\n",
      "epoch 24  train loss: 0.1240  val loss: 0.1034\n",
      "epoch 25  train loss: 0.1281  val loss: 0.1079\n",
      "epoch 26  train loss: 0.1400  val loss: 0.1110\n",
      "epoch 27  train loss: 0.1326  val loss: 0.1013\n",
      "epoch 28  train loss: 0.1518  val loss: 0.1020\n",
      "epoch 29  train loss: 0.1283  val loss: 0.0995\n",
      "epoch 30  train loss: 0.1519  val loss: 0.1126\n",
      "epoch 31  train loss: 0.1438  val loss: 0.0954\n",
      "epoch 32  train loss: 0.1412  val loss: 0.1092\n",
      "epoch 33  train loss: 0.1237  val loss: 0.0916\n",
      "epoch 34  train loss: 0.1066  val loss: 0.0939\n",
      "epoch 35  train loss: 0.1048  val loss: 0.0941\n",
      "epoch 36  train loss: 0.1180  val loss: 0.0916\n",
      "epoch 37  train loss: 0.1086  val loss: 0.0917\n",
      "epoch 38  train loss: 0.1072  val loss: 0.0987\n",
      "epoch 39  train loss: 0.1334  val loss: 0.0924\n",
      "epoch 40  train loss: 0.1178  val loss: 0.0884\n",
      "epoch 41  train loss: 0.1041  val loss: 0.0877\n",
      "epoch 42  train loss: 0.1246  val loss: 0.0916\n",
      "epoch 43  train loss: 0.1023  val loss: 0.1010\n",
      "epoch 44  train loss: 0.1013  val loss: 0.0850\n",
      "epoch 45  train loss: 0.1061  val loss: 0.0907\n",
      "epoch 46  train loss: 0.1005  val loss: 0.0971\n",
      "epoch 47  train loss: 0.0971  val loss: 0.0851\n",
      "epoch 48  train loss: 0.1000  val loss: 0.0857\n",
      "epoch 49  train loss: 0.0949  val loss: 0.0960\n",
      "epoch 50  train loss: 0.1028  val loss: 0.0948\n",
      "epoch 51  train loss: 0.0956  val loss: 0.1050\n",
      "epoch 52  train loss: 0.1018  val loss: 0.0870\n",
      "epoch 53  train loss: 0.0951  val loss: 0.0849\n",
      "epoch 54  train loss: 0.0968  val loss: 0.0823\n",
      "epoch 55  train loss: 0.1011  val loss: 0.0997\n",
      "epoch 56  train loss: 0.1217  val loss: 0.1228\n",
      "epoch 57  train loss: 0.1044  val loss: 0.0951\n",
      "epoch 58  train loss: 0.1276  val loss: 0.0836\n",
      "epoch 59  train loss: 0.0993  val loss: 0.0829\n",
      "epoch 60  train loss: 0.0920  val loss: 0.0878\n",
      "epoch 61  train loss: 0.0974  val loss: 0.0783\n",
      "epoch 62  train loss: 0.1008  val loss: 0.0768\n",
      "epoch 63  train loss: 0.0957  val loss: 0.0902\n",
      "epoch 64  train loss: 0.0966  val loss: 0.0814\n",
      "epoch 65  train loss: 0.0843  val loss: 0.0816\n",
      "epoch 66  train loss: 0.0853  val loss: 0.0902\n",
      "epoch 67  train loss: 0.0861  val loss: 0.0764\n",
      "epoch 68  train loss: 0.0809  val loss: 0.0769\n",
      "epoch 69  train loss: 0.0892  val loss: 0.0748\n",
      "epoch 70  train loss: 0.0794  val loss: 0.0791\n",
      "epoch 71  train loss: 0.0832  val loss: 0.0865\n",
      "epoch 72  train loss: 0.0892  val loss: 0.0768\n",
      "epoch 73  train loss: 0.0963  val loss: 0.0875\n",
      "epoch 74  train loss: 0.0900  val loss: 0.0872\n",
      "epoch 75  train loss: 0.0860  val loss: 0.0745\n",
      "epoch 76  train loss: 0.0867  val loss: 0.0801\n",
      "epoch 77  train loss: 0.0819  val loss: 0.0894\n",
      "epoch 78  train loss: 0.0891  val loss: 0.0807\n",
      "epoch 79  train loss: 0.0904  val loss: 0.0874\n",
      "epoch 80  train loss: 0.0813  val loss: 0.0819\n",
      "epoch 81  train loss: 0.0839  val loss: 0.0839\n",
      "epoch 82  train loss: 0.0823  val loss: 0.0750\n",
      "epoch 83  train loss: 0.0820  val loss: 0.0820\n",
      "epoch 84  train loss: 0.0858  val loss: 0.0739\n",
      "epoch 85  train loss: 0.0868  val loss: 0.0780\n",
      "epoch 86  train loss: 0.0901  val loss: 0.0721\n",
      "epoch 87  train loss: 0.0775  val loss: 0.0787\n",
      "epoch 88  train loss: 0.0830  val loss: 0.0755\n",
      "epoch 89  train loss: 0.0781  val loss: 0.0721\n",
      "epoch 90  train loss: 0.0764  val loss: 0.0725\n",
      "epoch 91  train loss: 0.0783  val loss: 0.0778\n",
      "epoch 92  train loss: 0.0824  val loss: 0.0768\n",
      "epoch 93  train loss: 0.0864  val loss: 0.0905\n",
      "epoch 94  train loss: 0.0907  val loss: 0.0793\n",
      "epoch 95  train loss: 0.0845  val loss: 0.0712\n",
      "epoch 96  train loss: 0.0737  val loss: 0.0731\n",
      "epoch 97  train loss: 0.0738  val loss: 0.0771\n",
      "epoch 98  train loss: 0.0785  val loss: 0.0765\n",
      "epoch 99  train loss: 0.0776  val loss: 0.0764\n",
      "epoch 100  train loss: 0.0767  val loss: 0.0740\n"
     ]
    }
   ],
   "source": [
    "for epoch in range(1, n_epochs+1):\n",
    "    model.train()\n",
    "    tot_train = 0\n",
    "    for xb, yb in train_loader:\n",
    "        xb, yb = xb.to(device), yb.to(device)\n",
    "        optimizer.zero_grad()\n",
    "        loss_pred = criterion(model(xb), yb)\n",
    "        loss_pred.backward()\n",
    "        optimizer.step()\n",
    "\n",
    "        l_constraint = ((float(sum(model(xb)[0])) + float(sum(model(xb)[1]))) - 2) ** 2\n",
    "        # Sum of the two floats should add up to 2. Not sure why there are two outputs yet...\n",
    "\n",
    "        loss = loss_pred + (lconst_mult * l_constraint)\n",
    "        tot_train += loss.item() * xb.size(0)\n",
    "    train_losses.append(tot_train / len(train_loader.dataset))\n",
    "\n",
    "    model.eval()\n",
    "    tot_val = 0\n",
    "    with torch.no_grad():\n",
    "        for xb, yb in val_loader:\n",
    "            xb, yb = xb.to(device), yb.to(device)\n",
    "            tot_val += criterion(model(xb), yb).item() * xb.size(0)\n",
    "    val_losses.append(tot_val / len(val_loader.dataset))\n",
    "\n",
    "    print(f\"epoch {epoch:02d}  train loss: {train_losses[-1]:.4f}  val loss: {val_losses[-1]:.4f}\")"
   ]
  },
  {
   "cell_type": "code",
   "execution_count": 45,
   "id": "c51a523a",
   "metadata": {},
   "outputs": [
    {
     "data": {
      "image/png": "[encoded data removed]",
      "text/plain": [
       "<Figure size 640x480 with 1 Axes>"
      ]
     },
     "metadata": {},
     "output_type": "display_data"
    }
   ],
   "source": [
    "plt.plot(train_losses, label=\"train\")\n",
    "plt.plot(val_losses,   label=\"val\")\n",
    "plt.xlabel(\"epoch\"); plt.ylabel(\"mse\"); plt.legend(); plt.show()\n",
    "\n",
    "torch.save(model.state_dict(), \"spectra_mlp.pth\")"
   ]
  },
  {
   "cell_type": "code",
   "execution_count": 46,
   "id": "c05be9b2",
   "metadata": {},
   "outputs": [
    {
     "name": "stdout",
     "output_type": "stream",
     "text": [
      "validation r^2:  0.8668\n",
      "validation rmse: 0.1063\n"
     ]
    }
   ],
   "source": [
    "import numpy as np\n",
    "from sklearn.metrics import r2_score, root_mean_squared_error\n",
    "\n",
    "model.eval()\n",
    "\n",
    "all_preds, all_targets = [], []\n",
    "with torch.no_grad():\n",
    "    for xb, yb in val_loader:\n",
    "        xb, yb = xb.to(device), yb.to(device)\n",
    "        preds = model(xb)\n",
    "        all_preds.append(preds.cpu().numpy())\n",
    "        all_targets.append(yb.cpu().numpy())\n",
    "\n",
    "all_preds = np.vstack(all_preds)\n",
    "all_targets = np.vstack(all_targets)\n",
    "\n",
    "r2 = r2_score(all_targets, all_preds, multioutput=\"uniform_average\")\n",
    "rmse = root_mean_squared_error(all_targets, all_preds)\n",
    "\n",
    "print(f\"validation r^2:  {r2:.4f}\")\n",
    "print(f\"validation rmse: {rmse:.4f}\")"
   ]
  }
 ],
 "metadata": {
  "kernelspec": {
   "display_name": "Python 3",
   "language": "python",
   "name": "python3"
  },
  "language_info": {
   "codemirror_mode": {
    "name": "ipython",
    "version": 3
   },
   "file_extension": ".py",
   "mimetype": "text/x-python",
   "name": "python",
   "nbconvert_exporter": "python",
   "pygments_lexer": "ipython3",
   "version": "3.13.3"
  }
 },
 "nbformat": 4,
 "nbformat_minor": 5
}
