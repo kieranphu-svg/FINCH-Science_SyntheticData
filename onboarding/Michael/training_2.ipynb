{
 "cells": [
  {
   "cell_type": "code",
   "execution_count": 48,
   "id": "70688ac4",
   "metadata": {},
   "outputs": [
    {
     "name": "stdout",
     "output_type": "stream",
     "text": [
      "The autoreload extension is already loaded. To reload it, use:\n",
      "  %reload_ext autoreload\n"
     ]
    }
   ],
   "source": [
    "# Define autoreload\n",
    "%load_ext autoreload\n",
    "%autoreload 2"
   ]
  },
  {
   "cell_type": "code",
   "execution_count": 49,
   "id": "5f30fbcb",
   "metadata": {},
   "outputs": [],
   "source": [
    "# Adopted from Andrew's project\n",
    "\n",
    "from training_defs import load_spectral_data, get_dataloaders\n",
    "from model import MLP\n",
    "import torch, torch.nn as nn, torch.optim as optim\n",
    "import matplotlib.pyplot as plt\n",
    "\n",
    "X, y = load_spectral_data()\n",
    "train_loader, val_loader = get_dataloaders(X, y)"
   ]
  },
  {
   "cell_type": "code",
   "execution_count": null,
   "id": "52f46577",
   "metadata": {},
   "outputs": [],
   "source": [
    "device = torch.device(\"cuda\" if torch.cuda.is_available() else \"cpu\")\n",
    "model = MLP(in_dim=X.shape[1], h_dim=128, out_dim=3).to(device)\n",
    "criterion = nn.L1Loss()\n",
    "optimizer = optim.Adam(model.parameters(), lr=1e-3)\n",
    "\n",
    "n_epochs = 100\n",
    "loss_mult = 2\n",
    "train_losses, val_losses = [], []"
   ]
  },
  {
   "cell_type": "code",
   "execution_count": 51,
   "id": "788f8fbc",
   "metadata": {},
   "outputs": [
    {
     "name": "stdout",
     "output_type": "stream",
     "text": [
      "epoch 01  train loss: 23.8507  val loss: 0.1841\n",
      "epoch 02  train loss: 17.5737  val loss: 0.1670\n",
      "epoch 03  train loss: 15.9667  val loss: 0.1567\n",
      "epoch 04  train loss: 15.2756  val loss: 0.1555\n",
      "epoch 05  train loss: 15.3937  val loss: 0.1474\n",
      "epoch 06  train loss: 14.0323  val loss: 0.1460\n",
      "epoch 07  train loss: 14.5500  val loss: 0.1507\n",
      "epoch 08  train loss: 13.3988  val loss: 0.1393\n",
      "epoch 09  train loss: 12.7869  val loss: 0.1233\n",
      "epoch 10  train loss: 12.0280  val loss: 0.1224\n",
      "epoch 11  train loss: 12.0202  val loss: 0.1293\n",
      "epoch 12  train loss: 11.1485  val loss: 0.0999\n",
      "epoch 13  train loss: 10.7072  val loss: 0.1097\n",
      "epoch 14  train loss: 9.8787  val loss: 0.1017\n",
      "epoch 15  train loss: 9.3764  val loss: 0.0967\n",
      "epoch 16  train loss: 8.9740  val loss: 0.1243\n",
      "epoch 17  train loss: 10.7022  val loss: 0.0902\n",
      "epoch 18  train loss: 9.3301  val loss: 0.0962\n",
      "epoch 19  train loss: 9.0271  val loss: 0.1003\n",
      "epoch 20  train loss: 8.7414  val loss: 0.0826\n",
      "epoch 21  train loss: 8.2653  val loss: 0.0827\n",
      "epoch 22  train loss: 8.6748  val loss: 0.0835\n",
      "epoch 23  train loss: 8.3702  val loss: 0.1011\n",
      "epoch 24  train loss: 8.8527  val loss: 0.0781\n",
      "epoch 25  train loss: 8.4125  val loss: 0.0854\n",
      "epoch 26  train loss: 8.0937  val loss: 0.0846\n",
      "epoch 27  train loss: 8.8039  val loss: 0.0948\n",
      "epoch 28  train loss: 8.1260  val loss: 0.1033\n",
      "epoch 29  train loss: 8.8198  val loss: 0.1389\n",
      "epoch 30  train loss: 9.4779  val loss: 0.0836\n",
      "epoch 31  train loss: 8.3428  val loss: 0.0749\n",
      "epoch 32  train loss: 7.9634  val loss: 0.0747\n",
      "epoch 33  train loss: 7.6495  val loss: 0.0763\n",
      "epoch 34  train loss: 7.3863  val loss: 0.0743\n",
      "epoch 35  train loss: 7.5962  val loss: 0.0759\n",
      "epoch 36  train loss: 7.5315  val loss: 0.0927\n",
      "epoch 37  train loss: 8.9496  val loss: 0.0951\n",
      "epoch 38  train loss: 7.9870  val loss: 0.0813\n",
      "epoch 39  train loss: 7.0955  val loss: 0.0695\n",
      "epoch 40  train loss: 6.9421  val loss: 0.0890\n",
      "epoch 41  train loss: 8.0054  val loss: 0.0895\n",
      "epoch 42  train loss: 7.4771  val loss: 0.1177\n",
      "epoch 43  train loss: 8.4629  val loss: 0.0843\n",
      "epoch 44  train loss: 6.9877  val loss: 0.1177\n",
      "epoch 45  train loss: 7.8172  val loss: 0.0742\n",
      "epoch 46  train loss: 7.8258  val loss: 0.0750\n",
      "epoch 47  train loss: 7.1817  val loss: 0.0795\n",
      "epoch 48  train loss: 6.8638  val loss: 0.0834\n",
      "epoch 49  train loss: 6.8471  val loss: 0.0973\n",
      "epoch 50  train loss: 8.0585  val loss: 0.0666\n",
      "epoch 51  train loss: 6.8530  val loss: 0.0854\n",
      "epoch 52  train loss: 6.9290  val loss: 0.0784\n",
      "epoch 53  train loss: 7.2728  val loss: 0.0669\n",
      "epoch 54  train loss: 6.8512  val loss: 0.0695\n",
      "epoch 55  train loss: 6.7089  val loss: 0.0688\n",
      "epoch 56  train loss: 6.9053  val loss: 0.0634\n",
      "epoch 57  train loss: 6.4815  val loss: 0.0907\n",
      "epoch 58  train loss: 7.4106  val loss: 0.0766\n",
      "epoch 59  train loss: 7.2608  val loss: 0.0689\n",
      "epoch 60  train loss: 6.3646  val loss: 0.0616\n",
      "epoch 61  train loss: 6.3894  val loss: 0.0780\n",
      "epoch 62  train loss: 6.7360  val loss: 0.0880\n",
      "epoch 63  train loss: 7.0662  val loss: 0.0715\n",
      "epoch 64  train loss: 6.8927  val loss: 0.0647\n",
      "epoch 65  train loss: 6.4514  val loss: 0.0678\n",
      "epoch 66  train loss: 6.3992  val loss: 0.0734\n",
      "epoch 67  train loss: 6.6888  val loss: 0.1226\n",
      "epoch 68  train loss: 7.8751  val loss: 0.0652\n",
      "epoch 69  train loss: 6.1186  val loss: 0.0640\n",
      "epoch 70  train loss: 6.0344  val loss: 0.0898\n",
      "epoch 71  train loss: 7.0639  val loss: 0.0769\n",
      "epoch 72  train loss: 6.4779  val loss: 0.0763\n",
      "epoch 73  train loss: 6.8411  val loss: 0.0735\n",
      "epoch 74  train loss: 6.1755  val loss: 0.0618\n",
      "epoch 75  train loss: 6.2617  val loss: 0.0611\n",
      "epoch 76  train loss: 6.0130  val loss: 0.0665\n",
      "epoch 77  train loss: 6.1904  val loss: 0.0627\n",
      "epoch 78  train loss: 6.1695  val loss: 0.0730\n",
      "epoch 79  train loss: 6.1999  val loss: 0.0659\n",
      "epoch 80  train loss: 6.1808  val loss: 0.0649\n",
      "epoch 81  train loss: 6.3967  val loss: 0.0831\n",
      "epoch 82  train loss: 6.0916  val loss: 0.0748\n",
      "epoch 83  train loss: 5.9720  val loss: 0.0601\n",
      "epoch 84  train loss: 5.8565  val loss: 0.0682\n",
      "epoch 85  train loss: 6.1077  val loss: 0.0750\n",
      "epoch 86  train loss: 6.6852  val loss: 0.0633\n",
      "epoch 87  train loss: 6.1817  val loss: 0.0594\n",
      "epoch 88  train loss: 5.9622  val loss: 0.0658\n",
      "epoch 89  train loss: 6.1034  val loss: 0.0620\n",
      "epoch 90  train loss: 6.1409  val loss: 0.0654\n",
      "epoch 91  train loss: 6.1115  val loss: 0.0634\n",
      "epoch 92  train loss: 5.7755  val loss: 0.0726\n",
      "epoch 93  train loss: 6.5996  val loss: 0.0686\n",
      "epoch 94  train loss: 6.4529  val loss: 0.0639\n",
      "epoch 95  train loss: 6.2533  val loss: 0.0809\n",
      "epoch 96  train loss: 6.8157  val loss: 0.0793\n",
      "epoch 97  train loss: 5.9290  val loss: 0.0648\n",
      "epoch 98  train loss: 5.9102  val loss: 0.0589\n",
      "epoch 99  train loss: 5.5946  val loss: 0.0669\n",
      "epoch 100  train loss: 5.7427  val loss: 0.0790\n"
     ]
    }
   ],
   "source": [
    "for epoch in range(1, n_epochs+1):\n",
    "    model.train()\n",
    "    tot_train = 0\n",
    "    for xb, yb in train_loader:\n",
    "        xb, yb = xb.to(device), yb.to(device)\n",
    "        optimizer.zero_grad()\n",
    "        loss = criterion(model(xb), yb) * loss_mult\n",
    "        loss.backward()\n",
    "        optimizer.step()\n",
    "        tot_train += loss.item() * xb.size(0)\n",
    "    train_losses.append(tot_train / len(train_loader.dataset))\n",
    "\n",
    "    model.eval()\n",
    "    tot_val = 0\n",
    "    with torch.no_grad():\n",
    "        for xb, yb in val_loader:\n",
    "            xb, yb = xb.to(device), yb.to(device)\n",
    "            tot_val += criterion(model(xb), yb).item() * xb.size(0)\n",
    "    val_losses.append(tot_val / len(val_loader.dataset))\n",
    "\n",
    "    print(f\"epoch {epoch:02d}  train loss: {train_losses[-1]:.4f}  val loss: {val_losses[-1]:.4f}\")"
   ]
  },
  {
   "cell_type": "code",
   "execution_count": 52,
   "id": "c51a523a",
   "metadata": {},
   "outputs": [
    {
     "data": {
      "image/png": "[encoded data removed]",
      "text/plain": [
       "<Figure size 640x480 with 1 Axes>"
      ]
     },
     "metadata": {},
     "output_type": "display_data"
    }
   ],
   "source": [
    "plt.plot(train_losses, label=\"train\")\n",
    "plt.plot(val_losses,   label=\"val\")\n",
    "plt.xlabel(\"epoch\"); plt.ylabel(\"mse\"); plt.legend(); plt.show()\n",
    "\n",
    "torch.save(model.state_dict(), \"spectra_mlp.pth\")"
   ]
  },
  {
   "cell_type": "code",
   "execution_count": 53,
   "id": "c05be9b2",
   "metadata": {},
   "outputs": [
    {
     "name": "stdout",
     "output_type": "stream",
     "text": [
      "validation r^2:  0.8400\n",
      "validation rmse: 0.1201\n"
     ]
    }
   ],
   "source": [
    "import numpy as np\n",
    "from sklearn.metrics import r2_score, root_mean_squared_error\n",
    "\n",
    "model.eval()\n",
    "\n",
    "all_preds, all_targets = [], []\n",
    "with torch.no_grad():\n",
    "    for xb, yb in val_loader:\n",
    "        xb, yb = xb.to(device), yb.to(device)\n",
    "        preds = model(xb)\n",
    "        all_preds.append(preds.cpu().numpy())\n",
    "        all_targets.append(yb.cpu().numpy())\n",
    "\n",
    "all_preds = np.vstack(all_preds)\n",
    "all_targets = np.vstack(all_targets)\n",
    "\n",
    "r2 = r2_score(all_targets, all_preds, multioutput=\"uniform_average\")\n",
    "rmse = root_mean_squared_error(all_targets, all_preds)\n",
    "\n",
    "print(f\"validation r^2:  {r2:.4f}\")\n",
    "print(f\"validation rmse: {rmse:.4f}\")"
   ]
  }
 ],
 "metadata": {
  "kernelspec": {
   "display_name": "Python 3",
   "language": "python",
   "name": "python3"
  },
  "language_info": {
   "codemirror_mode": {
    "name": "ipython",
    "version": 3
   },
   "file_extension": ".py",
   "mimetype": "text/x-python",
   "name": "python",
   "nbconvert_exporter": "python",
   "pygments_lexer": "ipython3",
   "version": "3.13.3"
  }
 },
 "nbformat": 4,
 "nbformat_minor": 5
}
