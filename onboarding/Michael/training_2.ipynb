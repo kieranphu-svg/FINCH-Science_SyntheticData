{
 "cells": [
  {
   "cell_type": "code",
   "execution_count": 7,
   "id": "70688ac4",
   "metadata": {},
   "outputs": [
    {
     "name": "stdout",
     "output_type": "stream",
     "text": [
      "The autoreload extension is already loaded. To reload it, use:\n",
      "  %reload_ext autoreload\n"
     ]
    }
   ],
   "source": [
    "# Define autoreload\n",
    "%load_ext autoreload\n",
    "%autoreload 2"
   ]
  },
  {
   "cell_type": "code",
   "execution_count": 8,
   "id": "5f30fbcb",
   "metadata": {},
   "outputs": [],
   "source": [
    "# Adopted from Andrew's project\n",
    "\n",
    "from training_defs import load_spectral_data, get_dataloaders\n",
    "from model import MLP\n",
    "import torch, torch.nn as nn, torch.optim as optim\n",
    "import matplotlib.pyplot as plt\n",
    "\n",
    "X, y = load_spectral_data()\n",
    "train_loader, val_loader = get_dataloaders(X, y)"
   ]
  },
  {
   "cell_type": "code",
   "execution_count": 9,
   "id": "52f46577",
   "metadata": {},
   "outputs": [],
   "source": [
    "device = torch.device(\"cuda\" if torch.cuda.is_available() else \"cpu\")\n",
    "\n",
    "# Layers\n",
    "hidden_layers = [64, 128, 128, 128, 64]\n",
    "\n",
    "model = MLP(in_dim=X.shape[1], h_dim=hidden_layers, out_dim=3).to(device)\n",
    "criterion = nn.L1Loss()\n",
    "optimizer = optim.Adam(model.parameters(), lr=1e-3)\n",
    "\n",
    "n_epochs = 100\n",
    "lconst_mult = 4\n",
    "train_losses, val_losses = [], []"
   ]
  },
  {
   "cell_type": "code",
   "execution_count": 10,
   "id": "788f8fbc",
   "metadata": {},
   "outputs": [
    {
     "name": "stdout",
     "output_type": "stream",
     "text": [
      "epoch 01  train loss: 2.1343  val loss: 0.2174\n",
      "epoch 02  train loss: 0.4935  val loss: 0.1768\n",
      "epoch 03  train loss: 0.2268  val loss: 0.1677\n",
      "epoch 04  train loss: 0.1926  val loss: 0.1679\n",
      "epoch 05  train loss: 0.2037  val loss: 0.1544\n",
      "epoch 06  train loss: 0.1886  val loss: 0.1508\n",
      "epoch 07  train loss: 0.1802  val loss: 0.1459\n",
      "epoch 08  train loss: 0.1611  val loss: 0.1531\n",
      "epoch 09  train loss: 0.1713  val loss: 0.1422\n",
      "epoch 10  train loss: 0.1536  val loss: 0.1427\n",
      "epoch 11  train loss: 0.1509  val loss: 0.1436\n",
      "epoch 12  train loss: 0.1637  val loss: 0.1368\n",
      "epoch 13  train loss: 0.1491  val loss: 0.1307\n",
      "epoch 14  train loss: 0.1826  val loss: 0.1201\n",
      "epoch 15  train loss: 0.1435  val loss: 0.1420\n",
      "epoch 16  train loss: 0.1497  val loss: 0.1375\n",
      "epoch 17  train loss: 0.1365  val loss: 0.1175\n",
      "epoch 18  train loss: 0.1479  val loss: 0.1144\n",
      "epoch 19  train loss: 0.1313  val loss: 0.1199\n",
      "epoch 20  train loss: 0.1343  val loss: 0.1132\n",
      "epoch 21  train loss: 0.1347  val loss: 0.1288\n",
      "epoch 22  train loss: 0.1275  val loss: 0.1109\n",
      "epoch 23  train loss: 0.1227  val loss: 0.1174\n",
      "epoch 24  train loss: 0.1188  val loss: 0.1076\n",
      "epoch 25  train loss: 0.1117  val loss: 0.1176\n",
      "epoch 26  train loss: 0.1309  val loss: 0.1055\n",
      "epoch 27  train loss: 0.1169  val loss: 0.1038\n",
      "epoch 28  train loss: 0.1136  val loss: 0.1078\n",
      "epoch 29  train loss: 0.1118  val loss: 0.1038\n",
      "epoch 30  train loss: 0.1154  val loss: 0.1050\n",
      "epoch 31  train loss: 0.1196  val loss: 0.1059\n",
      "epoch 32  train loss: 0.1238  val loss: 0.1055\n",
      "epoch 33  train loss: 0.1073  val loss: 0.1000\n",
      "epoch 34  train loss: 0.1058  val loss: 0.0986\n",
      "epoch 35  train loss: 0.1138  val loss: 0.0961\n",
      "epoch 36  train loss: 0.1029  val loss: 0.0949\n",
      "epoch 37  train loss: 0.1027  val loss: 0.0934\n",
      "epoch 38  train loss: 0.1080  val loss: 0.1070\n",
      "epoch 39  train loss: 0.1005  val loss: 0.1169\n",
      "epoch 40  train loss: 0.1028  val loss: 0.1219\n",
      "epoch 41  train loss: 0.1195  val loss: 0.0925\n",
      "epoch 42  train loss: 0.0968  val loss: 0.0877\n",
      "epoch 43  train loss: 0.0940  val loss: 0.0898\n",
      "epoch 44  train loss: 0.1063  val loss: 0.1157\n",
      "epoch 45  train loss: 0.1092  val loss: 0.0842\n",
      "epoch 46  train loss: 0.1044  val loss: 0.0872\n",
      "epoch 47  train loss: 0.0965  val loss: 0.0833\n",
      "epoch 48  train loss: 0.0861  val loss: 0.0868\n",
      "epoch 49  train loss: 0.0989  val loss: 0.0856\n",
      "epoch 50  train loss: 0.0937  val loss: 0.1289\n",
      "epoch 51  train loss: 0.2581  val loss: 0.0981\n",
      "epoch 52  train loss: 0.0924  val loss: 0.0831\n",
      "epoch 53  train loss: 0.0926  val loss: 0.0809\n",
      "epoch 54  train loss: 0.0849  val loss: 0.0808\n",
      "epoch 55  train loss: 0.0886  val loss: 0.0853\n",
      "epoch 56  train loss: 0.0868  val loss: 0.0896\n",
      "epoch 57  train loss: 0.0843  val loss: 0.1021\n",
      "epoch 58  train loss: 0.0854  val loss: 0.0887\n",
      "epoch 59  train loss: 0.0784  val loss: 0.0957\n",
      "epoch 60  train loss: 0.0872  val loss: 0.0810\n",
      "epoch 61  train loss: 0.0738  val loss: 0.0855\n",
      "epoch 62  train loss: 0.0804  val loss: 0.0887\n",
      "epoch 63  train loss: 0.0812  val loss: 0.0864\n",
      "epoch 64  train loss: 0.0761  val loss: 0.0834\n",
      "epoch 65  train loss: 0.0764  val loss: 0.0820\n",
      "epoch 66  train loss: 0.0754  val loss: 0.0874\n",
      "epoch 67  train loss: 0.0762  val loss: 0.0865\n",
      "epoch 68  train loss: 0.0771  val loss: 0.0888\n",
      "epoch 69  train loss: 0.0787  val loss: 0.0794\n",
      "epoch 70  train loss: 0.0797  val loss: 0.0849\n",
      "epoch 71  train loss: 0.0749  val loss: 0.0848\n",
      "epoch 72  train loss: 0.0805  val loss: 0.0775\n",
      "epoch 73  train loss: 0.0798  val loss: 0.0784\n",
      "epoch 74  train loss: 0.0741  val loss: 0.0929\n",
      "epoch 75  train loss: 0.0758  val loss: 0.0752\n",
      "epoch 76  train loss: 0.0735  val loss: 0.0768\n",
      "epoch 77  train loss: 0.0821  val loss: 0.0849\n",
      "epoch 78  train loss: 0.0693  val loss: 0.0773\n",
      "epoch 79  train loss: 0.0714  val loss: 0.0812\n",
      "epoch 80  train loss: 0.0750  val loss: 0.0748\n",
      "epoch 81  train loss: 0.0696  val loss: 0.0748\n",
      "epoch 82  train loss: 0.0674  val loss: 0.0997\n",
      "epoch 83  train loss: 0.0745  val loss: 0.0889\n",
      "epoch 84  train loss: 0.0699  val loss: 0.0818\n",
      "epoch 85  train loss: 0.0711  val loss: 0.0863\n",
      "epoch 86  train loss: 0.0744  val loss: 0.0982\n",
      "epoch 87  train loss: 0.0696  val loss: 0.0756\n",
      "epoch 88  train loss: 0.0662  val loss: 0.0835\n",
      "epoch 89  train loss: 0.0722  val loss: 0.0796\n",
      "epoch 90  train loss: 0.0740  val loss: 0.0764\n",
      "epoch 91  train loss: 0.0722  val loss: 0.0860\n",
      "epoch 92  train loss: 0.0692  val loss: 0.0836\n",
      "epoch 93  train loss: 0.0680  val loss: 0.0795\n",
      "epoch 94  train loss: 0.0656  val loss: 0.0759\n",
      "epoch 95  train loss: 0.0657  val loss: 0.0736\n",
      "epoch 96  train loss: 0.0625  val loss: 0.0740\n",
      "epoch 97  train loss: 0.0621  val loss: 0.0735\n",
      "epoch 98  train loss: 0.0612  val loss: 0.0763\n",
      "epoch 99  train loss: 0.0678  val loss: 0.0788\n",
      "epoch 100  train loss: 0.0727  val loss: 0.0772\n"
     ]
    }
   ],
   "source": [
    "for epoch in range(1, n_epochs+1):\n",
    "    model.train()\n",
    "    tot_train = 0\n",
    "    for xb, yb in train_loader:\n",
    "        xb, yb = xb.to(device), yb.to(device)\n",
    "        optimizer.zero_grad()\n",
    "        loss_pred = criterion(model(xb), yb)\n",
    "        loss_pred.backward()\n",
    "        optimizer.step()\n",
    "\n",
    "        l_constraint = ((float(sum(model(xb)[0])) + float(sum(model(xb)[1]))) - 2) ** 2\n",
    "        # Sum of the two floats should add up to 2. Not sure why there are two outputs yet...\n",
    "\n",
    "        loss = loss_pred + (lconst_mult * l_constraint)\n",
    "        tot_train += loss.item() * xb.size(0)\n",
    "    train_losses.append(tot_train / len(train_loader.dataset))\n",
    "\n",
    "    model.eval()\n",
    "    tot_val = 0\n",
    "    with torch.no_grad():\n",
    "        for xb, yb in val_loader:\n",
    "            xb, yb = xb.to(device), yb.to(device)\n",
    "            tot_val += criterion(model(xb), yb).item() * xb.size(0)\n",
    "    val_losses.append(tot_val / len(val_loader.dataset))\n",
    "\n",
    "    print(f\"epoch {epoch:02d}  train loss: {train_losses[-1]:.4f}  val loss: {val_losses[-1]:.4f}\")"
   ]
  },
  {
   "cell_type": "code",
   "execution_count": 11,
   "id": "c51a523a",
   "metadata": {},
   "outputs": [
    {
     "data": {
      "image/png": "[encoded data removed]",
      "text/plain": [
       "<Figure size 640x480 with 1 Axes>"
      ]
     },
     "metadata": {},
     "output_type": "display_data"
    }
   ],
   "source": [
    "plt.plot(train_losses, label=\"train\")\n",
    "plt.plot(val_losses,   label=\"val\")\n",
    "plt.xlabel(\"epoch\"); plt.ylabel(\"mse\"); plt.legend(); plt.show()\n",
    "\n",
    "torch.save(model.state_dict(), \"spectra_mlp.pth\")"
   ]
  },
  {
   "cell_type": "code",
   "execution_count": 12,
   "id": "c05be9b2",
   "metadata": {},
   "outputs": [
    {
     "name": "stdout",
     "output_type": "stream",
     "text": [
      "validation r^2:  0.8642\n",
      "validation rmse: 0.1150\n"
     ]
    }
   ],
   "source": [
    "import numpy as np\n",
    "from sklearn.metrics import r2_score, root_mean_squared_error\n",
    "\n",
    "model.eval()\n",
    "\n",
    "all_preds, all_targets = [], []\n",
    "with torch.no_grad():\n",
    "    for xb, yb in val_loader:\n",
    "        xb, yb = xb.to(device), yb.to(device)\n",
    "        preds = model(xb)\n",
    "        all_preds.append(preds.cpu().numpy())\n",
    "        all_targets.append(yb.cpu().numpy())\n",
    "\n",
    "all_preds = np.vstack(all_preds)\n",
    "all_targets = np.vstack(all_targets)\n",
    "\n",
    "r2 = r2_score(all_targets, all_preds, multioutput=\"uniform_average\")\n",
    "rmse = root_mean_squared_error(all_targets, all_preds)\n",
    "\n",
    "print(f\"validation r^2:  {r2:.4f}\")\n",
    "print(f\"validation rmse: {rmse:.4f}\")"
   ]
  }
 ],
 "metadata": {
  "kernelspec": {
   "display_name": "Python 3",
   "language": "python",
   "name": "python3"
  },
  "language_info": {
   "codemirror_mode": {
    "name": "ipython",
    "version": 3
   },
   "file_extension": ".py",
   "mimetype": "text/x-python",
   "name": "python",
   "nbconvert_exporter": "python",
   "pygments_lexer": "ipython3",
   "version": "3.13.3"
  }
 },
 "nbformat": 4,
 "nbformat_minor": 5
}
