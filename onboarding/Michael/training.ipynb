{
 "cells": [
  {
   "cell_type": "code",
   "execution_count": 1,
   "id": "e1d20866",
   "metadata": {},
   "outputs": [],
   "source": [
    "# Preamble\n",
    "from model import FractionMLP"
   ]
  },
  {
   "cell_type": "code",
   "execution_count": 2,
   "id": "1160be31",
   "metadata": {},
   "outputs": [],
   "source": [
    "# Variables\n",
    "input_size = 209 # 400-2490 nm (10 nm intervals)\n",
    "hidden_size = 16 # Arbitrary\n",
    "output_size = 3 # GV, NPV, soil"
   ]
  },
  {
   "cell_type": "code",
   "execution_count": null,
   "id": "0b0cfd65",
   "metadata": {},
   "outputs": [],
   "source": [
    "# NN setup\n",
    "model = FractionMLP(input_size, hidden_size, output_size)"
   ]
  }
 ],
 "metadata": {
  "kernelspec": {
   "display_name": "Python 3",
   "language": "python",
   "name": "python3"
  },
  "language_info": {
   "codemirror_mode": {
    "name": "ipython",
    "version": 3
   },
   "file_extension": ".py",
   "mimetype": "text/x-python",
   "name": "python",
   "nbconvert_exporter": "python",
   "pygments_lexer": "ipython3",
   "version": "3.13.3"
  }
 },
 "nbformat": 4,
 "nbformat_minor": 5
}
