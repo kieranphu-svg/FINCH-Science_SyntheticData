{
 "cells": [
  {
   "cell_type": "code",
   "execution_count": 1,
   "id": "b91bb1b5",
   "metadata": {},
   "outputs": [],
   "source": [
    "# Define autoreload\n",
    "%load_ext autoreload\n",
    "%autoreload 2"
   ]
  },
  {
   "cell_type": "code",
   "execution_count": 2,
   "id": "e1d20866",
   "metadata": {},
   "outputs": [],
   "source": [
    "# Preamble\n",
    "from model import FractionMLP\n",
    "from training_defs import load_csv, test_train_split\n",
    "import matplotlib.pyplot as plt\n",
    "import torch"
   ]
  },
  {
   "cell_type": "code",
   "execution_count": 3,
   "id": "1160be31",
   "metadata": {},
   "outputs": [],
   "source": [
    "# Variables\n",
    "input_size = 210 # 400-2490 nm (10 nm intervals)\n",
    "hidden_size = 16 # Arbitrary\n",
    "output_size = 3 # GV, NPV, soil"
   ]
  },
  {
   "cell_type": "code",
   "execution_count": 4,
   "id": "0b0cfd65",
   "metadata": {},
   "outputs": [
    {
     "name": "stdout",
     "output_type": "stream",
     "text": [
      "torch.float64\n"
     ]
    }
   ],
   "source": [
    "# NN setup\n",
    "model = FractionMLP(input_size, hidden_size, output_size)\n",
    "print(model.W1.dtype)"
   ]
  },
  {
   "cell_type": "code",
   "execution_count": 5,
   "id": "69e2af4a",
   "metadata": {},
   "outputs": [],
   "source": [
    "# This is my personal filepath. Change filepath for testing\n",
    "#raw_data = load_csv('filepath')\n",
    "raw_data = load_csv(\"/Users/galacticmilk/Desktop/Michael's folder/[UNI]/[UTAT]/[science]/FINCH-Science_SyntheticData/data/simpler_data_rwc.csv\")"
   ]
  },
  {
   "cell_type": "code",
   "execution_count": 6,
   "id": "dedee65e",
   "metadata": {},
   "outputs": [
    {
     "name": "stdout",
     "output_type": "stream",
     "text": [
      "torch.float64\n"
     ]
    }
   ],
   "source": [
    "train_input, train_output, test_input, test_output = test_train_split(raw_data)\n",
    "print(train_input.dtype)"
   ]
  },
  {
   "cell_type": "code",
   "execution_count": 7,
   "id": "17fe0a4d",
   "metadata": {},
   "outputs": [
    {
     "data": {
      "image/png": "[encoded data removed]",
      "text/plain": [
       "<Figure size 640x480 with 1 Axes>"
      ]
     },
     "metadata": {},
     "output_type": "display_data"
    },
    {
     "name": "stdout",
     "output_type": "stream",
     "text": [
      "Test Accuracy: 15.24%\n"
     ]
    }
   ],
   "source": [
    "#Train the model, store loss\n",
    "losses = model.train(train_input, train_output, epochs=1000, lr=0.1)\n",
    "\n",
    "plt.plot(losses)\n",
    "plt.xlabel(\"Epoch\")\n",
    "plt.ylabel(\"Loss\")\n",
    "plt.title(\"Training Loss over Epochs\")\n",
    "plt.show()\n",
    "\n",
    "with torch.no_grad():\n",
    "    t_output = model.forward(test_input)\n",
    "    # t_output = (t_output > 0.5).float() \n",
    "# accuracy = torch.mean((t_output == test_output).float())\n",
    "accuracy = torch.mean(abs(t_output - test_output).float())\n",
    "print(f\"Test Accuracy: {accuracy.item() * 100:.2f}%\")"
   ]
  },
  {
   "cell_type": "code",
   "execution_count": 8,
   "id": "67ddedda",
   "metadata": {},
   "outputs": [
    {
     "name": "stdout",
     "output_type": "stream",
     "text": [
      "model fractions: 0.1014644 gv, 0.4140963 npv, 0.4772359 soil\n",
      "actual fractions: 0.1124260 gv, 0.3431950 npv, 0.5443790 soil\n"
     ]
    }
   ],
   "source": [
    "# Print the result of the model output and the actual fractions against one another.\n",
    "\n",
    "record = 4\n",
    "\n",
    "print(f\"model fractions: {t_output[record][0]:.7f} gv, {t_output[record][1]:.7f} npv, {t_output[record][2]:.7f} soil\")\n",
    "print(f\"actual fractions: {test_output[record][0]:.7f} gv, {test_output[record][1]:.7f} npv, {test_output[record][2]:.7f} soil\")"
   ]
  },
  {
   "cell_type": "code",
   "execution_count": 9,
   "id": "bb63e8ee",
   "metadata": {},
   "outputs": [
    {
     "data": {
      "text/plain": [
       "'\\nConsiderations:\\n    - Maybe randomising testing and training data even further?\\n'"
      ]
     },
     "execution_count": 9,
     "metadata": {},
     "output_type": "execute_result"
    }
   ],
   "source": [
    "\"\"\"\n",
    "Considerations:\n",
    "    - Maybe randomising testing and training data even further?\n",
    "\"\"\""
   ]
  }
 ],
 "metadata": {
  "kernelspec": {
   "display_name": "Python 3",
   "language": "python",
   "name": "python3"
  },
  "language_info": {
   "codemirror_mode": {
    "name": "ipython",
    "version": 3
   },
   "file_extension": ".py",
   "mimetype": "text/x-python",
   "name": "python",
   "nbconvert_exporter": "python",
   "pygments_lexer": "ipython3",
   "version": "3.13.3"
  }
 },
 "nbformat": 4,
 "nbformat_minor": 5
}
