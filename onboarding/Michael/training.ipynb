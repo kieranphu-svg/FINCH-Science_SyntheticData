{
 "cells": [
  {
   "cell_type": "code",
   "execution_count": 20,
   "id": "e1d20866",
   "metadata": {},
   "outputs": [],
   "source": [
    "# Preamble\n",
    "from model import FractionMLP\n",
    "from training_defs import load_csv, test_train_split\n",
    "import matplotlib.pyplot as plt\n",
    "import torch"
   ]
  },
  {
   "cell_type": "code",
   "execution_count": 21,
   "id": "1160be31",
   "metadata": {},
   "outputs": [],
   "source": [
    "# Variables\n",
    "input_size = 210 # 400-2490 nm (10 nm intervals)\n",
    "hidden_size = 16 # Arbitrary\n",
    "output_size = 3 # GV, NPV, soil"
   ]
  },
  {
   "cell_type": "code",
   "execution_count": 22,
   "id": "0b0cfd65",
   "metadata": {},
   "outputs": [],
   "source": [
    "# NN setup\n",
    "model = FractionMLP(input_size, hidden_size, output_size)"
   ]
  },
  {
   "cell_type": "code",
   "execution_count": 23,
   "id": "69e2af4a",
   "metadata": {},
   "outputs": [],
   "source": [
    "# This is my personal filepath. Change filepath for testing\n",
    "#raw_data = load_csv('filepath')\n",
    "raw_data = load_csv(\"/Users/galacticmilk/Desktop/Michael's folder/[UNI]/[UTAT]/[science]/FINCH-Science_SyntheticData/data/simpler_data_rwc.csv\")"
   ]
  },
  {
   "cell_type": "code",
   "execution_count": 24,
   "id": "dedee65e",
   "metadata": {},
   "outputs": [],
   "source": [
    "train_input, train_output, test_input, test_output = test_train_split(raw_data)"
   ]
  },
  {
   "cell_type": "code",
   "execution_count": 25,
   "id": "17fe0a4d",
   "metadata": {},
   "outputs": [
    {
     "ename": "RuntimeError",
     "evalue": "expected m1 and m2 to have the same dtype, but got: double != float",
     "output_type": "error",
     "traceback": [
      "\u001b[31m---------------------------------------------------------------------------\u001b[39m",
      "\u001b[31mRuntimeError\u001b[39m                              Traceback (most recent call last)",
      "\u001b[36mCell\u001b[39m\u001b[36m \u001b[39m\u001b[32mIn[25]\u001b[39m\u001b[32m, line 2\u001b[39m\n\u001b[32m      1\u001b[39m \u001b[38;5;66;03m#Train the model, store loss\u001b[39;00m\n\u001b[32m----> \u001b[39m\u001b[32m2\u001b[39m losses = \u001b[43mmodel\u001b[49m\u001b[43m.\u001b[49m\u001b[43mtrain\u001b[49m\u001b[43m(\u001b[49m\u001b[43mtrain_input\u001b[49m\u001b[43m,\u001b[49m\u001b[43m \u001b[49m\u001b[43mtrain_output\u001b[49m\u001b[43m,\u001b[49m\u001b[43m \u001b[49m\u001b[43mepochs\u001b[49m\u001b[43m=\u001b[49m\u001b[32;43m1000\u001b[39;49m\u001b[43m,\u001b[49m\u001b[43m \u001b[49m\u001b[43mlr\u001b[49m\u001b[43m=\u001b[49m\u001b[32;43m0.1\u001b[39;49m\u001b[43m)\u001b[49m\n\u001b[32m      4\u001b[39m plt.plot(losses)\n\u001b[32m      5\u001b[39m plt.xlabel(\u001b[33m\"\u001b[39m\u001b[33mEpoch\u001b[39m\u001b[33m\"\u001b[39m)\n",
      "\u001b[36mFile \u001b[39m\u001b[32m~/Desktop/Michael's folder/[UNI]/[UTAT]/[science]/FINCH-Science_SyntheticData/onboarding/Michael/model.py:73\u001b[39m, in \u001b[36mFractionMLP.train\u001b[39m\u001b[34m(self, X, y, epochs, lr)\u001b[39m\n\u001b[32m     71\u001b[39m losses = []\n\u001b[32m     72\u001b[39m \u001b[38;5;28;01mfor\u001b[39;00m epoch \u001b[38;5;129;01min\u001b[39;00m \u001b[38;5;28mrange\u001b[39m(epochs):\n\u001b[32m---> \u001b[39m\u001b[32m73\u001b[39m     output = \u001b[38;5;28;43mself\u001b[39;49m\u001b[43m.\u001b[49m\u001b[43mforward\u001b[49m\u001b[43m(\u001b[49m\u001b[43mX\u001b[49m\u001b[43m)\u001b[49m\n\u001b[32m     74\u001b[39m     \u001b[38;5;66;03m#Compute loss using (Mean Squared Error)\u001b[39;00m\n\u001b[32m     75\u001b[39m     loss = torch.mean((output - y) ** \u001b[32m2\u001b[39m)\n",
      "\u001b[36mFile \u001b[39m\u001b[32m~/Desktop/Michael's folder/[UNI]/[UTAT]/[science]/FINCH-Science_SyntheticData/onboarding/Michael/model.py:40\u001b[39m, in \u001b[36mFractionMLP.forward\u001b[39m\u001b[34m(self, X)\u001b[39m\n\u001b[32m     36\u001b[39m \u001b[38;5;28;01mdef\u001b[39;00m\u001b[38;5;250m \u001b[39m\u001b[34mforward\u001b[39m(\u001b[38;5;28mself\u001b[39m, X):\n\u001b[32m     37\u001b[39m \u001b[38;5;250m    \u001b[39m\u001b[33;03m\"\"\"\u001b[39;00m\n\u001b[32m     38\u001b[39m \u001b[33;03m    Forward pass. Will use sigmoid function for now.\u001b[39;00m\n\u001b[32m     39\u001b[39m \u001b[33;03m    \"\"\"\u001b[39;00m\n\u001b[32m---> \u001b[39m\u001b[32m40\u001b[39m     \u001b[38;5;28mself\u001b[39m.z1 = \u001b[43mtorch\u001b[49m\u001b[43m.\u001b[49m\u001b[43mmatmul\u001b[49m\u001b[43m(\u001b[49m\u001b[43mX\u001b[49m\u001b[43m,\u001b[49m\u001b[43m \u001b[49m\u001b[38;5;28;43mself\u001b[39;49m\u001b[43m.\u001b[49m\u001b[43mW1\u001b[49m\u001b[43m)\u001b[49m + \u001b[38;5;28mself\u001b[39m.b1\n\u001b[32m     41\u001b[39m     \u001b[38;5;28mself\u001b[39m.a1 = torch.sigmoid(\u001b[38;5;28mself\u001b[39m.z1)  \u001b[38;5;66;03m# Hidden layer activation\u001b[39;00m\n\u001b[32m     42\u001b[39m     \u001b[38;5;28mself\u001b[39m.z2 = torch.matmul(\u001b[38;5;28mself\u001b[39m.a1, \u001b[38;5;28mself\u001b[39m.W2) + \u001b[38;5;28mself\u001b[39m.b2\n",
      "\u001b[31mRuntimeError\u001b[39m: expected m1 and m2 to have the same dtype, but got: double != float"
     ]
    }
   ],
   "source": [
    "#Train the model, store loss\n",
    "losses = model.train(train_input, train_output, epochs=1000, lr=0.1)\n",
    "\n",
    "plt.plot(losses)\n",
    "plt.xlabel(\"Epoch\")\n",
    "plt.ylabel(\"Loss\")\n",
    "plt.title(\"Training Loss over Epochs\")\n",
    "plt.show()\n",
    "\n",
    "with torch.no_grad():\n",
    "    output = model.forward(test_input)\n",
    "    # output = (output > 0.5).float() \n",
    "accuracy = torch.mean((output == test_output).float())\n",
    "print(f\"Test Accuracy: {accuracy.item() * 100:.2f}%\")"
   ]
  }
 ],
 "metadata": {
  "kernelspec": {
   "display_name": "Python 3",
   "language": "python",
   "name": "python3"
  },
  "language_info": {
   "codemirror_mode": {
    "name": "ipython",
    "version": 3
   },
   "file_extension": ".py",
   "mimetype": "text/x-python",
   "name": "python",
   "nbconvert_exporter": "python",
   "pygments_lexer": "ipython3",
   "version": "3.13.3"
  }
 },
 "nbformat": 4,
 "nbformat_minor": 5
}
