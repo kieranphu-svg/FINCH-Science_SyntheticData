{
 "cells": [
  {
   "cell_type": "code",
   "execution_count": null,
   "id": "81ebcedb",
   "metadata": {},
   "outputs": [],
   "source": [
    "%load_ext autoreload\n",
    "%autoreload 2"
   ]
  },
  {
   "cell_type": "code",
   "execution_count": null,
   "id": "aebdd50a",
   "metadata": {},
   "outputs": [],
   "source": [
    "import sys\n",
    "from pathlib import Path\n",
    "project_root = Path.cwd().resolve().parents[2]\n",
    "sys.path.append(str(project_root))\n",
    "\n",
    "from defs.vae.ae import *"
   ]
  }
 ],
 "metadata": {
  "language_info": {
   "name": "python"
  }
 },
 "nbformat": 4,
 "nbformat_minor": 5
}
