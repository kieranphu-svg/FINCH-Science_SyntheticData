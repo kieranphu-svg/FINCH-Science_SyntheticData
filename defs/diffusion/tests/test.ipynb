{
 "cells": [
  {
   "cell_type": "code",
   "execution_count": 1,
   "id": "cad4a280",
   "metadata": {},
   "outputs": [],
   "source": [
    "%load_ext autoreload\n",
    "%autoreload 2\n",
    "\n",
    "# Define autroreload so that it doesn't cause pain in the ass when we change the functions and run this notebook"
   ]
  },
  {
   "cell_type": "code",
   "execution_count": 2,
   "id": "68dc5e52",
   "metadata": {},
   "outputs": [],
   "source": [
    "import sys\n",
    "from pathlib import Path\n",
    "project_root = Path.cwd().resolve().parents[2]\n",
    "sys.path.append(str(project_root))\n",
    "\n",
    "from defs.diffusion.epsilon import *"
   ]
  },
  {
   "cell_type": "code",
   "execution_count": 3,
   "id": "4438e4df",
   "metadata": {},
   "outputs": [
    {
     "name": "stdout",
     "output_type": "stream",
     "text": [
      "Using device: cuda\n",
      "PyTorch version: 2.5.1+cu121\n",
      "CUDA version PyTorch sees: 12.1\n",
      "cuDNN enabled: True\n",
      "Number of GPUs detected: 1\n"
     ]
    }
   ],
   "source": [
    "# Set device\n",
    "\n",
    "device = torch.device(\"cuda\" if torch.cuda.is_available() else \"cpu\")\n",
    "#device = torch.device(\"cpu\")  # Force CPU for testing purposes\n",
    "print(f\"Using device: {device}\")\n",
    "\n",
    "print(\"PyTorch version:\", torch.__version__)\n",
    "print(\"CUDA version PyTorch sees:\", torch.version.cuda)\n",
    "print(\"cuDNN enabled:\", torch.backends.cudnn.enabled)\n",
    "print(\"Number of GPUs detected:\", torch.cuda.device_count())"
   ]
  },
  {
   "cell_type": "code",
   "execution_count": 4,
   "id": "f7b710d9",
   "metadata": {},
   "outputs": [],
   "source": [
    "# Define the dictionary of and initialize the MLP\n",
    "\n",
    "cfg_model = {\n",
    "    'time_embed': {\n",
    "        'hidden_dim': 32,\n",
    "        'hidden_n': 2\n",
    "    },\n",
    "    'ab_embed': {\n",
    "        'hidden_dim': 48,\n",
    "        'hidden_n': 3,\n",
    "        'ab_dim': 3\n",
    "    },\n",
    "    'denoiser': {\n",
    "        'hidden_dim': 128,\n",
    "        'hidden_n': 4,\n",
    "        'spec_dim': 81\n",
    "    }\n",
    "}\n",
    "\n",
    "epsilon= Epsilon_MLP(cfg_model= cfg_model)\n",
    "epsilon = epsilon.to(device)"
   ]
  },
  {
   "cell_type": "code",
   "execution_count": 6,
   "id": "2abde2ee",
   "metadata": {},
   "outputs": [
    {
     "data": {
      "text/plain": [
       "'model_graph.png'"
      ]
     },
     "execution_count": 6,
     "metadata": {},
     "output_type": "execute_result"
    }
   ],
   "source": [
    "# Testing the graph of the epsilon\n",
    "\n",
    "# Create the test tensors\n",
    "spec_tensor = torch.randn(5, 81).to(device)\n",
    "time_tensor = torch.randn(5,).to(device)\n",
    "ab_tensor = torch.randn(5, 3).to(device)\n",
    "\n",
    "output = epsilon(spec_tensor, time_tensor, ab_tensor)\n",
    "\n",
    "\n",
    "# Create the graph:\n",
    "from torchviz import make_dot\n",
    "import graphviz\n",
    "import os\n",
    "os.environ[\"PATH\"] += os.pathsep + r\"C:\\Program Files\\Graphviz\\bin\"\n",
    "\n",
    "make_dot(output, params=dict(epsilon.named_parameters())).render(\"model_graph\", format=\"png\")"
   ]
  }
 ],
 "metadata": {
  "kernelspec": {
   "display_name": "Python 3.13 (pip)",
   "language": "python",
   "name": "py313"
  },
  "language_info": {
   "codemirror_mode": {
    "name": "ipython",
    "version": 3
   },
   "file_extension": ".py",
   "mimetype": "text/x-python",
   "name": "python",
   "nbconvert_exporter": "python",
   "pygments_lexer": "ipython3",
   "version": "3.12.7"
  }
 },
 "nbformat": 4,
 "nbformat_minor": 5
}
